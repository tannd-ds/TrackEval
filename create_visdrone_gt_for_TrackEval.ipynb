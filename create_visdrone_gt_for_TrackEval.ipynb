{
 "cells": [
  {
   "cell_type": "code",
   "execution_count": 76,
   "id": "477c23ca-b740-4619-bca4-40fadab449ed",
   "metadata": {},
   "outputs": [],
   "source": [
    "import os\n",
    "import shutil\n",
    "import configparser"
   ]
  },
  {
   "cell_type": "code",
   "execution_count": 87,
   "id": "d4b8951c-7f35-482d-b0e0-93cbf28ae5e6",
   "metadata": {},
   "outputs": [],
   "source": [
    "def visdrone_to_mot17(base_dir: str, target_dir: str):\n",
    "    \"\"\"\n",
    "    Converts VisDrone format to MOT17 format, including 'seqinfo.ini' creation.\n",
    "\n",
    "    Parameters:\n",
    "    ----------\n",
    "    base_dir: str, required\n",
    "        Relative path to VisDrone dataset directory.\n",
    "    target_dir: str, required\n",
    "        Relative path to the target directory for MOT17 format.\n",
    "    frame_rate: int, optional (default=30)\n",
    "        The frame rate of the video sequences.\n",
    "    im_ext: str, optional (default='.jpg')\n",
    "        The file extension of the image files.\n",
    "    \"\"\"\n",
    "    important_dirs = ['train']\n",
    "\n",
    "    # Copy groundtruth annotations\n",
    "    for d in important_dirs:\n",
    "        dataset_name = os.path.basename(base_dir) + '-' + d\n",
    "        seqmaps_info = {\n",
    "            'file_path': os.path.join(target_dir, 'seqmaps', f'{dataset_name}.txt'),\n",
    "            'content' : 'name\\n',\n",
    "        }\n",
    "        \n",
    "        from_dir = os.path.join(base_dir, d)\n",
    "        to_dir = os.path.join(target_dir, dataset_name)\n",
    "        os.makedirs(to_dir, exist_ok=True)\n",
    "\n",
    "        for seq_name in os.listdir(from_dir):\n",
    "            seq_dir = os.path.join(from_dir, seq_name)\n",
    "            to_seq_dir = os.path.join(to_dir, seq_name)\n",
    "            os.makedirs(to_seq_dir, exist_ok=True)\n",
    "            os.makedirs(os.path.join(to_dir, seq_name, 'gt'), exist_ok=True)\n",
    "\n",
    "            shutil.copy(\n",
    "                os.path.join(os.path.join(from_dir, seq_name), 'gt', 'gt.txt'), \n",
    "                os.path.join(os.path.join(to_dir, seq_name, 'gt'))\n",
    "            )\n",
    "\n",
    "            seqmaps_info['content'] += seq_name + '\\n'\n",
    "\n",
    "            # Create seqinfo.ini\n",
    "            seqinfo_path = os.path.join(to_seq_dir, 'seqinfo.ini')\n",
    "            config = configparser.ConfigParser()\n",
    "            config['Sequence'] = {\n",
    "                'name': f'{seq_name}',\n",
    "                'imDir': 'img1',\n",
    "                'frameRate': 10,\n",
    "                'seqLength': len(os.listdir(os.path.join(seq_dir, 'img1'))),  # Count image files\n",
    "                'imWidth': 1920,  # Adjust if necessary\n",
    "                'imHeight': 1080, # Adjust if necessary\n",
    "                'imExt': '.jpg'\n",
    "            }\n",
    "            with open(seqinfo_path, 'w') as f:\n",
    "                config.write(f)\n",
    "\n",
    "        # Save seqmaps\n",
    "        # shutil.touch(seqmaps_info['file_path'])\n",
    "        with open(seqmaps_info['file_path'], 'w') as f:\n",
    "            f.write(seqmaps_info['content'])\n",
    "    \n",
    "    print(base_dir, target_dir)"
   ]
  },
  {
   "cell_type": "code",
   "execution_count": 88,
   "id": "cbe6b9c2-5911-4372-a2ca-a23cdc910357",
   "metadata": {},
   "outputs": [
    {
     "name": "stdout",
     "output_type": "stream",
     "text": [
      "../datasets/VisDrone2019-MOT_coco ./TrackEval/data/gt/mot_challenge/\n"
     ]
    }
   ],
   "source": [
    "visdrone_to_mot17('../datasets/VisDrone2019-MOT_coco', './TrackEval/data/gt/mot_challenge/')"
   ]
  },
  {
   "cell_type": "code",
   "execution_count": 65,
   "id": "1c883ce2-7916-46a6-a493-28b58868bada",
   "metadata": {},
   "outputs": [
    {
     "data": {
      "text/plain": [
       "['MOT17-02-DPM',\n",
       " 'MOT17-02-FRCNN',\n",
       " 'MOT17-02-SDP',\n",
       " 'MOT17-04-DPM',\n",
       " 'MOT17-04-FRCNN',\n",
       " 'MOT17-04-SDP',\n",
       " 'MOT17-05-DPM',\n",
       " 'MOT17-05-FRCNN',\n",
       " 'MOT17-05-SDP',\n",
       " 'MOT17-09-DPM',\n",
       " 'MOT17-09-FRCNN',\n",
       " 'MOT17-09-SDP',\n",
       " 'MOT17-10-DPM',\n",
       " 'MOT17-10-FRCNN',\n",
       " 'MOT17-10-SDP',\n",
       " 'MOT17-11-DPM',\n",
       " 'MOT17-11-FRCNN',\n",
       " 'MOT17-11-SDP',\n",
       " 'MOT17-13-DPM',\n",
       " 'MOT17-13-FRCNN',\n",
       " 'MOT17-13-SDP']"
      ]
     },
     "execution_count": 65,
     "metadata": {},
     "output_type": "execute_result"
    }
   ],
   "source": [
    "sorted(os.listdir('./TrackEval/data/gt/mot_challenge/MOT17-train'))"
   ]
  }
 ],
 "metadata": {
  "kernelspec": {
   "display_name": "Python 3 (ipykernel)",
   "language": "python",
   "name": "python3"
  },
  "language_info": {
   "codemirror_mode": {
    "name": "ipython",
    "version": 3
   },
   "file_extension": ".py",
   "mimetype": "text/x-python",
   "name": "python",
   "nbconvert_exporter": "python",
   "pygments_lexer": "ipython3",
   "version": "3.11.9"
  }
 },
 "nbformat": 4,
 "nbformat_minor": 5
}
